{
  "nbformat": 4,
  "nbformat_minor": 0,
  "metadata": {
    "colab": {
      "name": "baitap2.ipynb",
      "provenance": [],
      "authorship_tag": "ABX9TyON+OXoCsKA8gtJuY+YCwyv",
      "include_colab_link": true
    },
    "kernelspec": {
      "name": "python3",
      "display_name": "Python 3"
    },
    "language_info": {
      "name": "python"
    }
  },
  "cells": [
    {
      "cell_type": "markdown",
      "metadata": {
        "id": "view-in-github",
        "colab_type": "text"
      },
      "source": [
        "<a href=\"https://colab.research.google.com/github/viett887g/baitap6/blob/main/baitap2.ipynb\" target=\"_parent\"><img src=\"https://colab.research.google.com/assets/colab-badge.svg\" alt=\"Open In Colab\"/></a>"
      ]
    },
    {
      "cell_type": "code",
      "metadata": {
        "colab": {
          "base_uri": "https://localhost:8080/"
        },
        "id": "kHPqkiW68Fgj",
        "outputId": "b1786c77-e031-4af4-e489-9baa4495c705"
      },
      "source": [
        "n=int(input(\"nhap vao mot so\"))\n",
        "if 0<n<5:\n",
        "  print(\"yeu\")\n",
        "elif 5<n<7:\n",
        "  print(\"trung_binh\")\n",
        "elif 7<n<8:\n",
        "  print(\"kha\")\n",
        "elif 8<n<9:\n",
        "  print(\"gioi\")\n",
        "elif n>9:\n",
        "  print(\"suat_sac\")"
      ],
      "execution_count": null,
      "outputs": [
        {
          "output_type": "stream",
          "name": "stdout",
          "text": [
            "nhap vao mot so6\n",
            "trung_binh\n"
          ]
        }
      ]
    }
  ]
}